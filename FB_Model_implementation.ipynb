{
  "nbformat": 4,
  "nbformat_minor": 0,
  "metadata": {
    "colab": {
      "name": "FB Model implementation",
      "provenance": [],
      "collapsed_sections": []
    },
    "kernelspec": {
      "name": "python3",
      "display_name": "Python 3"
    }
  },
  "cells": [
    {
      "cell_type": "code",
      "metadata": {
        "id": "9hiZXpITrfRY"
      },
      "source": [
        "import pandas as pd\n",
        "from sklearn.ensemble import RandomForestClassifier\n",
        "from sklearn.model_selection import RandomizedSearchCV\n",
        "from sklearn.metrics import f1_score\n",
        "from google.colab import drive\n",
        "from pandas import read_hdf\n",
        "import matplotlib.pyplot as plt\n",
        "from scipy.stats import randint as sp_randint\n",
        "from scipy.stats import uniform"
      ],
      "execution_count": null,
      "outputs": []
    },
    {
      "cell_type": "code",
      "metadata": {
        "id": "QqfcpCjggF_1",
        "outputId": "ca174038-5292-4bc8-9ae5-c29f96515c46",
        "colab": {
          "base_uri": "https://localhost:8080/",
          "height": 118
        }
      },
      "source": [
        "drive.mount('/content/drive')"
      ],
      "execution_count": null,
      "outputs": [
        {
          "output_type": "stream",
          "text": [
            "Go to this URL in a browser: https://accounts.google.com/o/oauth2/auth?client_id=947318989803-6bn6qk8qdgf4n4g3pfee6491hc0brc4i.apps.googleusercontent.com&redirect_uri=urn%3aietf%3awg%3aoauth%3a2.0%3aoob&response_type=code&scope=email%20https%3a%2f%2fwww.googleapis.com%2fauth%2fdocs.test%20https%3a%2f%2fwww.googleapis.com%2fauth%2fdrive%20https%3a%2f%2fwww.googleapis.com%2fauth%2fdrive.photos.readonly%20https%3a%2f%2fwww.googleapis.com%2fauth%2fpeopleapi.readonly\n",
            "\n",
            "Enter your authorization code:\n",
            "··········\n",
            "Mounted at /content/drive\n"
          ],
          "name": "stdout"
        }
      ]
    },
    {
      "cell_type": "code",
      "metadata": {
        "id": "xjP6BYVhspUX"
      },
      "source": [
        "#reading\n",
        "\n",
        "df_final_train = pd.read_hdf('/content/drive/My Drive/FB Recommendation data/data/fea_sample/storage_sample_stage4.h5', 'train_df',mode='r')\n",
        "df_final_test = pd.read_hdf('/content/drive/My Drive/FB Recommendation data/data/fea_sample/storage_sample_stage4.h5', 'test_df',mode='r')"
      ],
      "execution_count": null,
      "outputs": []
    },
    {
      "cell_type": "code",
      "metadata": {
        "id": "Ynp4Lp_us_IW",
        "outputId": "e938fe98-1785-4ec1-d2fc-048eec1fb9e3",
        "colab": {
          "base_uri": "https://localhost:8080/",
          "height": 230
        }
      },
      "source": [
        "df_final_train.columns"
      ],
      "execution_count": null,
      "outputs": [
        {
          "output_type": "execute_result",
          "data": {
            "text/plain": [
              "Index(['source_node', 'destination_node', 'indicator_link',\n",
              "       'jaccard_followers', 'jaccard_followees', 'cosine_followers',\n",
              "       'cosine_followees', 'num_followers_s', 'num_followees_s',\n",
              "       'num_followees_d', 'inter_followers', 'inter_followees', 'adar_index',\n",
              "       'follows_back', 'same_comp', 'shortest_path', 'weight_in', 'weight_out',\n",
              "       'weight_f1', 'weight_f2', 'weight_f3', 'weight_f4', 'page_rank_s',\n",
              "       'page_rank_d', 'katz_s', 'katz_d', 'hubs_s', 'hubs_d', 'authorities_s',\n",
              "       'authorities_d', 'svd_u_s_1', 'svd_u_s_2', 'svd_u_s_3', 'svd_u_s_4',\n",
              "       'svd_u_s_5', 'svd_u_s_6', 'svd_u_d_1', 'svd_u_d_2', 'svd_u_d_3',\n",
              "       'svd_u_d_4', 'svd_u_d_5', 'svd_u_d_6', 'svd_v_s_1', 'svd_v_s_2',\n",
              "       'svd_v_s_3', 'svd_v_s_4', 'svd_v_s_5', 'svd_v_s_6', 'svd_v_d_1',\n",
              "       'svd_v_d_2', 'svd_v_d_3', 'svd_v_d_4', 'svd_v_d_5', 'svd_v_d_6'],\n",
              "      dtype='object')"
            ]
          },
          "metadata": {
            "tags": []
          },
          "execution_count": 4
        }
      ]
    },
    {
      "cell_type": "code",
      "metadata": {
        "id": "KvarMQ9LhfoX"
      },
      "source": [
        "y_train = df_final_train.indicator_link\n",
        "y_test = df_final_test.indicator_link"
      ],
      "execution_count": null,
      "outputs": []
    },
    {
      "cell_type": "code",
      "metadata": {
        "id": "7QBYu6g4hf18"
      },
      "source": [
        "df_final_train.drop(['source_node', 'destination_node','indicator_link'],axis = 1,inplace=True)\n",
        "df_final_test.drop(['source_node', 'destination_node','indicator_link'],axis = 1,inplace=True)"
      ],
      "execution_count": null,
      "outputs": []
    },
    {
      "cell_type": "markdown",
      "metadata": {
        "id": "EtB6npKkPEVv"
      },
      "source": [
        "# **RANDOM FOREST CLASSIFIER**\n",
        "\n",
        "**Using GridsearchCV**"
      ]
    },
    {
      "cell_type": "code",
      "metadata": {
        "id": "Jh8UNiDIPA2P",
        "outputId": "2ce4f1f5-6e35-4aba-cfb4-1b8ddd16b1a2",
        "colab": {
          "base_uri": "https://localhost:8080/",
          "height": 392
        }
      },
      "source": [
        "estimator = [10,50,100,250,450]\n",
        "\n",
        "train_scores = []\n",
        "test_scores = []\n",
        "\n",
        "for i in estimator:\n",
        "\n",
        "  clf = RandomForestClassifier(bootstrap =True,class_weight =None,criterion = 'gini',max_depth=5,max_features='auto',max_leaf_nodes=None,\n",
        "            min_impurity_decrease=0.0, min_impurity_split=None,\n",
        "            min_samples_leaf=52, min_samples_split=120,\n",
        "            min_weight_fraction_leaf=0.0, n_estimators=i, n_jobs=-1,random_state=25,verbose=0,warm_start=False)\n",
        "  \n",
        "  clf.fit(df_final_train,y_train)\n",
        "  train_sc = f1_score(y_train,clf.predict(df_final_train))\n",
        "  test_sc = f1_score(y_test,clf.predict(df_final_test))\n",
        "\n",
        "  train_scores.append(train_sc)\n",
        "  test_scores.append(test_sc)\n",
        "  print('Estimator = ',i,'train score',train_sc,'test score',test_sc)\n",
        "\n",
        "plt.plot(estimator,train_scores,label='Train Score')\n",
        "\n",
        "plt.plot(estimator,test_scores,label='Test Score')\n",
        "\n",
        "plt.xlabel('Estimators')\n",
        "plt.ylabel('Score')\n",
        "plt.title('Estimators vs score at depth of 5')\n"
      ],
      "execution_count": null,
      "outputs": [
        {
          "output_type": "stream",
          "text": [
            "Estimator =  10 train score 0.9063252121775113 test score 0.8745605278006858\n",
            "Estimator =  50 train score 0.9205725512208812 test score 0.9125653355634538\n",
            "Estimator =  100 train score 0.9238690848446947 test score 0.9141199714153599\n",
            "Estimator =  250 train score 0.9239789348046863 test score 0.9188007232664732\n",
            "Estimator =  450 train score 0.9237190618658074 test score 0.9161507685828595\n"
          ],
          "name": "stdout"
        },
        {
          "output_type": "execute_result",
          "data": {
            "text/plain": [
              "Text(0.5, 1.0, 'Estimators vs score at depth of 5')"
            ]
          },
          "metadata": {
            "tags": []
          },
          "execution_count": 7
        },
        {
          "output_type": "display_data",
          "data": {
            "image/png": "[encoded data removed]",
            "text/plain": [
              "<Figure size 432x288 with 1 Axes>"
            ]
          },
          "metadata": {
            "tags": [],
            "needs_background": "light"
          }
        }
      ]
    },
    {
      "cell_type": "code",
      "metadata": {
        "id": "41nD9H2ViKjg",
        "outputId": "9f4e3b41-379f-4f1c-fc4e-9fc8e35d2078",
        "colab": {
          "base_uri": "https://localhost:8080/",
          "height": 458
        }
      },
      "source": [
        "depth = [3,9,11,15,20,35,50,70,130]\n",
        "\n",
        "train_scores = []\n",
        "test_scores = []\n",
        "\n",
        "for i in depth:\n",
        "\n",
        "  clf = RandomForestClassifier(bootstrap =True,class_weight =None,criterion = 'gini',max_depth=i,max_features='auto',max_leaf_nodes=None,\n",
        "            min_impurity_decrease=0.0, min_impurity_split=None,\n",
        "            min_samples_leaf=52, min_samples_split=120,\n",
        "            min_weight_fraction_leaf=0.0, n_estimators=115, n_jobs=-1,random_state=25,verbose=0,warm_start=False)\n",
        "  \n",
        "  clf.fit(df_final_train,y_train)\n",
        "  train_sc = f1_score(y_train,clf.predict(df_final_train))\n",
        "  test_sc = f1_score(y_test,clf.predict(df_final_test))\n",
        "\n",
        "  train_scores.append(train_sc)\n",
        "  test_scores.append(test_sc)\n",
        "  print('Depth = ',i,'train score',train_sc,'test score',test_sc)\n",
        "\n",
        "plt.plot(depth,train_scores,label='Train Score')\n",
        "\n",
        "plt.plot(depth,test_scores,label='Test Score')\n",
        "\n",
        "plt.xlabel('Estimators')\n",
        "plt.ylabel('Score')\n",
        "plt.title('Depth vs Score estimator =115')"
      ],
      "execution_count": null,
      "outputs": [
        {
          "output_type": "stream",
          "text": [
            "Depth =  3 train score 0.8916120853581238 test score 0.8687934859875491\n",
            "Depth =  9 train score 0.9572226298198419 test score 0.9222953031452904\n",
            "Depth =  11 train score 0.9623451340902863 test score 0.9252318758281279\n",
            "Depth =  15 train score 0.9634267621927706 test score 0.9231288356496615\n",
            "Depth =  20 train score 0.9631629153051491 test score 0.9235051024711141\n",
            "Depth =  35 train score 0.9634333127085721 test score 0.9235601652753184\n",
            "Depth =  50 train score 0.9634333127085721 test score 0.9235601652753184\n",
            "Depth =  70 train score 0.9634333127085721 test score 0.9235601652753184\n",
            "Depth =  130 train score 0.9634333127085721 test score 0.9235601652753184\n"
          ],
          "name": "stdout"
        },
        {
          "output_type": "execute_result",
          "data": {
            "text/plain": [
              "Text(0.5, 1.0, 'Depth vs Score estimator =115')"
            ]
          },
          "metadata": {
            "tags": []
          },
          "execution_count": 8
        },
        {
          "output_type": "display_data",
          "data": {
            "image/png": "[encoded data removed]",
            "text/plain": [
              "<Figure size 432x288 with 1 Axes>"
            ]
          },
          "metadata": {
            "tags": [],
            "needs_background": "light"
          }
        }
      ]
    },
    {
      "cell_type": "markdown",
      "metadata": {
        "id": "5nSVMTEFrWPQ"
      },
      "source": [
        "**RandomizedSearchCV**"
      ]
    },
    {
      "cell_type": "code",
      "metadata": {
        "id": "l42UCMDKzw2S",
        "outputId": "717d9fde-23c3-4770-d9f5-361b158270b9",
        "colab": {
          "base_uri": "https://localhost:8080/",
          "height": 345
        }
      },
      "source": [
        "from scipy.stats import randint as sp_randint\n",
        "from scipy.stats import uniform\n",
        "\n",
        "param_dist = {\"n_estimators\":sp_randint(105,125),\n",
        "              \"max_depth\": sp_randint(10,15),\n",
        "              \"min_samples_split\": sp_randint(110,190),\n",
        "              \"min_samples_leaf\": sp_randint(25,65)}\n",
        "\n",
        "clf = RandomForestClassifier(random_state=25,n_jobs=-1)\n",
        "\n",
        "rf_random = RandomizedSearchCV(clf, param_distributions=param_dist,\n",
        "                                   n_iter=5,cv=10,scoring='f1',random_state=25)\n",
        "\n",
        "rf_random.fit(df_final_train,y_train)"
      ],
      "execution_count": null,
      "outputs": [
        {
          "output_type": "execute_result",
          "data": {
            "text/plain": [
              "RandomizedSearchCV(cv=10, error_score=nan,\n",
              "                   estimator=RandomForestClassifier(bootstrap=True,\n",
              "                                                    ccp_alpha=0.0,\n",
              "                                                    class_weight=None,\n",
              "                                                    criterion='gini',\n",
              "                                                    max_depth=None,\n",
              "                                                    max_features='auto',\n",
              "                                                    max_leaf_nodes=None,\n",
              "                                                    max_samples=None,\n",
              "                                                    min_impurity_decrease=0.0,\n",
              "                                                    min_impurity_split=None,\n",
              "                                                    min_samples_leaf=1,\n",
              "                                                    min_samples_split=2,\n",
              "                                                    min_weight_fraction_leaf=0.0,\n",
              "                                                    n_estimators=100, n_job...\n",
              "                                        'min_samples_leaf': <scipy.stats._distn_infrastructure.rv_frozen object at 0x7fcfc2f2fac8>,\n",
              "                                        'min_samples_split': <scipy.stats._distn_infrastructure.rv_frozen object at 0x7fcfc4f420f0>,\n",
              "                                        'n_estimators': <scipy.stats._distn_infrastructure.rv_frozen object at 0x7fcfd7082358>},\n",
              "                   pre_dispatch='2*n_jobs', random_state=25, refit=True,\n",
              "                   return_train_score=False, scoring='f1', verbose=0)"
            ]
          },
          "metadata": {
            "tags": []
          },
          "execution_count": 9
        }
      ]
    },
    {
      "cell_type": "code",
      "metadata": {
        "id": "sq2K768H429m",
        "outputId": "c7e52f0f-3e00-4886-8f45-5f9299829813",
        "colab": {
          "base_uri": "https://localhost:8080/",
          "height": 148
        }
      },
      "source": [
        "print(rf_random.best_estimator_)"
      ],
      "execution_count": null,
      "outputs": [
        {
          "output_type": "stream",
          "text": [
            "RandomForestClassifier(bootstrap=True, ccp_alpha=0.0, class_weight=None,\n",
            "                       criterion='gini', max_depth=14, max_features='auto',\n",
            "                       max_leaf_nodes=None, max_samples=None,\n",
            "                       min_impurity_decrease=0.0, min_impurity_split=None,\n",
            "                       min_samples_leaf=28, min_samples_split=111,\n",
            "                       min_weight_fraction_leaf=0.0, n_estimators=121,\n",
            "                       n_jobs=-1, oob_score=False, random_state=25, verbose=0,\n",
            "                       warm_start=False)\n"
          ],
          "name": "stdout"
        }
      ]
    },
    {
      "cell_type": "code",
      "metadata": {
        "id": "6hXNzg5n5CeV"
      },
      "source": [
        " clf = RandomForestClassifier(bootstrap=True, ccp_alpha=0.0, class_weight=None,\n",
        "                       criterion='gini', max_depth=14, max_features='auto',\n",
        "                       max_leaf_nodes=None, max_samples=None,\n",
        "                       min_impurity_decrease=0.0, min_impurity_split=None,\n",
        "                       min_samples_leaf=28, min_samples_split=111,\n",
        "                       min_weight_fraction_leaf=0.0, n_estimators=121,\n",
        "                       n_jobs=-1, oob_score=False, random_state=25, verbose=0,\n",
        "                       warm_start=False)"
      ],
      "execution_count": null,
      "outputs": []
    },
    {
      "cell_type": "code",
      "metadata": {
        "id": "cPkOG2u45NP6"
      },
      "source": [
        "clf.fit(df_final_train,y_train)\n",
        "y_train_pred = clf.predict(df_final_train)\n",
        "y_test_pred = clf.predict(df_final_test)"
      ],
      "execution_count": null,
      "outputs": []
    },
    {
      "cell_type": "code",
      "metadata": {
        "id": "2Q7i4Jvx6pVG",
        "outputId": "070d8b42-1084-49a4-d3e7-8557d65546ea",
        "colab": {
          "base_uri": "https://localhost:8080/",
          "height": 49
        }
      },
      "source": [
        "print('Train f1 score',f1_score(y_train,y_train_pred))\n",
        "print('Test f1 score',f1_score(y_test,y_test_pred))"
      ],
      "execution_count": null,
      "outputs": [
        {
          "output_type": "stream",
          "text": [
            "Train f1 score 0.9652533106548414\n",
            "Test f1 score 0.9241678239279553\n"
          ],
          "name": "stdout"
        }
      ]
    },
    {
      "cell_type": "code",
      "metadata": {
        "id": "-i7fVBSTX6xd",
        "outputId": "1025575b-d2d8-486b-d36b-992fd8274caf",
        "colab": {
          "base_uri": "https://localhost:8080/",
          "height": 294
        }
      },
      "source": [
        "from sklearn.metrics import roc_curve,auc\n",
        "\n",
        "fpr,tpr,thres = roc_curve(y_test,y_test_pred)\n",
        "\n",
        "auc_sc = auc(fpr,tpr)\n",
        "plt.plot(fpr,tpr,color='red',label='ROC curve (area = %0.2f)' % auc_sc)\n",
        "plt.xlabel('False Positive Rate')\n",
        "plt.ylabel('True Positive Rate')\n",
        "plt.title('Receiver operating characteristic with test data')\n",
        "plt.legend()\n",
        "plt.show()"
      ],
      "execution_count": null,
      "outputs": [
        {
          "output_type": "display_data",
          "data": {
            "image/png": "[encoded data removed]",
            "text/plain": [
              "<Figure size 432x288 with 1 Axes>"
            ]
          },
          "metadata": {
            "tags": [],
            "needs_background": "light"
          }
        }
      ]
    }
  ]
}